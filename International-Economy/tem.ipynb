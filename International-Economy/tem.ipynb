{
 "cells": [
  {
   "cell_type": "code",
   "execution_count": 1,
   "metadata": {},
   "outputs": [
    {
     "name": "stdout",
     "output_type": "stream",
     "text": [
      "/Users/divya/Documents/Semester-6/International Economy\n",
      "[<a href=\"1.%20Introduction.pptx\">1. Introduction.pptx</a>, <a href=\"2.%20Labour%20Productivity%20and%20Comparative%20Advantage.pptx\">2. Labour Productivity and Comparative Advantage.pptx</a>, <a href=\"3.%20Resources,%20Comparative%20Advantage%20and%20Income%20Distribution.pptx\">3. Resources, Comparative Advantage and Income Distribution.pptx</a>, <a href=\"4.%20The%20Standard%20Trade%20Model.pptx\">4. The Standard Trade Model.pptx</a>, <a href=\"5.%20Economies%20of%20Scale,%20Imperfect%20Competition%20and%20International%20Trade.pptx\">5. Economies of Scale, Imperfect Competition and International Trade.pptx</a>, <a href=\"6.%20Instruments%20of%20Trade%20Policy.pptx\">6. Instruments of Trade Policy.pptx</a>, <a href=\"7.%20International%20Resource%20Movements%20and%20MNCs.pptx\">7. International Resource Movements and MNCs.pptx</a>, <a href=\"8.%20Balance%20of%20Payments.pptx\">8. Balance of Payments.pptx</a>, <a href=\"9.%20Foreign%20Exchange%20Markets%20and%20Exchange%20Rates.pptx\">9. Foreign Exchange Markets and Exchange Rates.pptx</a>, <a href=\"Balance%20of%20Payments_India.pdf\">Balance of Payments_India.pdf</a>, <a href=\"Country%20classification.pdf\">Country classification.pdf</a>, <a href=\"Hypothesis%20Testing.pdf\">Hypothesis Testing.pdf</a>, <a href=\"two%20sample%20hypothesis%20testing.pdf\">two sample hypothesis testing.pdf</a>]\n"
     ]
    },
    {
     "ename": "FileNotFoundError",
     "evalue": "[Errno 2] No such file or directory: '/Users/divya/Documents/Semester-6/International Economy/Lectures/1.%20Introduction.pptx'",
     "output_type": "error",
     "traceback": [
      "\u001b[0;31m---------------------------------------------------------------------------\u001b[0m",
      "\u001b[0;31mFileNotFoundError\u001b[0m                         Traceback (most recent call last)",
      "\u001b[0;32m/var/folders/rt/4pmvhmbn1mqgy1wn6v12t1xr0000gn/T/ipykernel_11759/1798014310.py\u001b[0m in \u001b[0;36m<module>\u001b[0;34m\u001b[0m\n\u001b[1;32m     29\u001b[0m     \u001b[0mfile_url\u001b[0m \u001b[0;34m=\u001b[0m \u001b[0murl\u001b[0m \u001b[0;34m+\u001b[0m \u001b[0mfile_name\u001b[0m\u001b[0;34m\u001b[0m\u001b[0;34m\u001b[0m\u001b[0m\n\u001b[1;32m     30\u001b[0m     \u001b[0mfile_response\u001b[0m \u001b[0;34m=\u001b[0m \u001b[0mrequests\u001b[0m\u001b[0;34m.\u001b[0m\u001b[0mget\u001b[0m\u001b[0;34m(\u001b[0m\u001b[0mfile_url\u001b[0m\u001b[0;34m)\u001b[0m\u001b[0;34m\u001b[0m\u001b[0;34m\u001b[0m\u001b[0m\n\u001b[0;32m---> 31\u001b[0;31m     \u001b[0;32mwith\u001b[0m \u001b[0mopen\u001b[0m\u001b[0;34m(\u001b[0m\u001b[0mos\u001b[0m\u001b[0;34m.\u001b[0m\u001b[0mpath\u001b[0m\u001b[0;34m.\u001b[0m\u001b[0mjoin\u001b[0m\u001b[0;34m(\u001b[0m\u001b[0mfolder_path\u001b[0m\u001b[0;34m,\u001b[0m \u001b[0mfile_name\u001b[0m\u001b[0;34m)\u001b[0m\u001b[0;34m,\u001b[0m \u001b[0;34m'wb'\u001b[0m\u001b[0;34m)\u001b[0m \u001b[0;32mas\u001b[0m \u001b[0mf\u001b[0m\u001b[0;34m:\u001b[0m\u001b[0;34m\u001b[0m\u001b[0;34m\u001b[0m\u001b[0m\n\u001b[0m\u001b[1;32m     32\u001b[0m         \u001b[0mf\u001b[0m\u001b[0;34m.\u001b[0m\u001b[0mwrite\u001b[0m\u001b[0;34m(\u001b[0m\u001b[0mfile_response\u001b[0m\u001b[0;34m.\u001b[0m\u001b[0mcontent\u001b[0m\u001b[0;34m)\u001b[0m\u001b[0;34m\u001b[0m\u001b[0;34m\u001b[0m\u001b[0m\n",
      "\u001b[0;31mFileNotFoundError\u001b[0m: [Errno 2] No such file or directory: '/Users/divya/Documents/Semester-6/International Economy/Lectures/1.%20Introduction.pptx'"
     ]
    }
   ],
   "source": [
    "from bs4 import BeautifulSoup\n",
    "import requests\n",
    "import numpy as np\n",
    "import pandas as pd\n",
    "import matplotlib.pyplot as plt\n",
    "import seaborn as sns\n",
    "import os \n",
    "\n",
    "pwd = os.getcwd()\n",
    "print(pwd)\n",
    "os.makedirs(pwd + '/Lab5/Q1', exist_ok=True)\n",
    "\n",
    "\n",
    "url = 'http://intranet.daiict.ac.in/~daiict_nt01/Lecture/Cyril%20Jos/International%20Economics/'\n",
    "folder_path = pwd + '/Lectures'\n",
    "\n",
    "response = requests.get(url)\n",
    "soup = BeautifulSoup(response.text, 'html.parser')\n",
    "links = soup.find_all('a')\n",
    "\n",
    "# only retain .pdf and .pptx files\n",
    "links = [link for link in links if link['href'].endswith('.pdf') or link['href'].endswith('.pptx')]\n",
    "print(links)\n",
    "\n",
    "for link in links:\n",
    "    file_name = link['href']\n",
    "    if file_name.endswith('/'):\n",
    "        continue\n",
    "    file_url = url + file_name\n",
    "    file_response = requests.get(file_url)\n",
    "    with open(os.path.join(folder_path, file_name), 'wb') as f:\n",
    "        f.write(file_response.content)\n"
   ]
  },
  {
   "cell_type": "code",
   "execution_count": 12,
   "metadata": {},
   "outputs": [
    {
     "name": "stdout",
     "output_type": "stream",
     "text": [
      "['out_etch.dat', 'out_lenny.dat', 'in_lenny.dat', 'out_squeeze.dat', 'in_squeeze.dat', 'in_etch.dat']\n"
     ]
    }
   ],
   "source": [
    "# read all files ending with .dat in folder pwd + Lab5/Q1 \n",
    "\n",
    "curr_dir = pwd + '/Lab5/Q1'\n",
    "files = os.listdir(curr_dir)\n",
    "files = [file for file in files if file.endswith('.dat')]\n",
    "print(files)\n",
    "\n"
   ]
  }
 ],
 "metadata": {
  "kernelspec": {
   "display_name": "base",
   "language": "python",
   "name": "python3"
  },
  "language_info": {
   "codemirror_mode": {
    "name": "ipython",
    "version": 3
   },
   "file_extension": ".py",
   "mimetype": "text/x-python",
   "name": "python",
   "nbconvert_exporter": "python",
   "pygments_lexer": "ipython3",
   "version": "3.9.13"
  },
  "orig_nbformat": 4
 },
 "nbformat": 4,
 "nbformat_minor": 2
}
